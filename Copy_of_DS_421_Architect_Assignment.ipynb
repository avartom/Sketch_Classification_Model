{
  "nbformat": 4,
  "nbformat_minor": 0,
  "metadata": {
    "accelerator": "GPU",
    "colab": {
      "provenance": []
    },
    "kernelspec": {
      "display_name": "Python 3",
      "language": "python",
      "name": "python3"
    },
    "language_info": {
      "codemirror_mode": {
        "name": "ipython",
        "version": 3
      },
      "file_extension": ".py",
      "mimetype": "text/x-python",
      "name": "python",
      "nbconvert_exporter": "python",
      "pygments_lexer": "ipython3",
      "version": "3.8.5"
    }
  },
  "cells": [
    {
      "cell_type": "markdown",
      "metadata": {
        "id": "ObyHCH8HvHSf"
      },
      "source": [
        "\n",
        "# *Data Science Unit 4 Sprint 2 Assignment 1*\n",
        "\n",
        "Use TensorFlow Keras and a sample of the [Quickdraw dataset](https://github.com/googlecreativelab/quickdraw-dataset) to build a sketch classification model. The dataset has been sampled to only 10 classes and 10000 observations per class. \n",
        "\n",
        "### Objective\n",
        "\n",
        "- Build a baseline classification model then, run a few experiments with different optimizers and learning rates. \n",
        "- Don't forget to [**switch to GPU if you're running your notebook on Colab!**](https://colab.research.google.com/notebooks/gpu.ipynb)"
      ]
    },
    {
      "cell_type": "markdown",
      "metadata": {
        "id": "s-Tc3ovEyQ9b"
      },
      "source": [
        "## Load Your Data"
      ]
    },
    {
      "cell_type": "code",
      "metadata": {
        "id": "CkU0pAYCvU8o"
      },
      "source": [
        "# imports in first cell \n",
        "import seaborn as sns\n",
        "import pandas as pd\n",
        "import numpy as np\n",
        "import tensorflow as tf \n",
        "import matplotlib.pyplot as plt\n",
        "from sklearn.utils import shuffle\n",
        "\n",
        "# use Sequential to build out your model\n",
        "from tensorflow.keras.models import Sequential\n",
        "\n",
        "# Dense layer is used for Fully Connected Forward Feeding networks\n",
        "from tensorflow.keras.layers import Dense"
      ],
      "execution_count": null,
      "outputs": []
    },
    {
      "cell_type": "markdown",
      "metadata": {
        "id": "UT2HFvSgDlFQ"
      },
      "source": [
        "Note that the 28x28 quickdraw images have already been \"flattened\" into 784: dimensional vectors"
      ]
    },
    {
      "cell_type": "code",
      "metadata": {
        "id": "S1XYJRQKLj1B",
        "colab": {
          "base_uri": "https://localhost:8080/"
        },
        "outputId": "8a10fca4-5420-460b-e4bd-2d96de93e18f"
      },
      "source": [
        "# load the quickdraw data set\n",
        "!git clone https://github.com/LambdaSchool/DS-Unit-4-Sprint-2-Neural-Networks\n",
        "data = np.load('/content/DS-Unit-4-Sprint-2-Neural-Networks/quickdraw10.npz')\n",
        "\n",
        "X = data['arr_0']\n",
        "y = data['arr_1']\n",
        "\n",
        "print(X.shape)\n",
        "print(y.shape)"
      ],
      "execution_count": null,
      "outputs": [
        {
          "output_type": "stream",
          "name": "stdout",
          "text": [
            "Cloning into 'DS-Unit-4-Sprint-2-Neural-Networks'...\n",
            "remote: Enumerating objects: 513, done.\u001b[K\n",
            "remote: Counting objects: 100% (148/148), done.\u001b[K\n",
            "remote: Compressing objects: 100% (80/80), done.\u001b[K\n",
            "remote: Total 513 (delta 76), reused 124 (delta 66), pack-reused 365\u001b[K\n",
            "Receiving objects: 100% (513/513), 83.34 MiB | 17.36 MiB/s, done.\n",
            "Resolving deltas: 100% (259/259), done.\n",
            "(100000, 784)\n",
            "(100000,)\n"
          ]
        }
      ]
    },
    {
      "cell_type": "markdown",
      "metadata": {
        "id": "mvMjoB_yDZTL"
      },
      "source": [
        "These are the names of the 10 image classes"
      ]
    },
    {
      "cell_type": "code",
      "metadata": {
        "id": "c8qsDqdqvHDd"
      },
      "source": [
        "class_names = ['apple',\n",
        "             'anvil',\n",
        "             'airplane',\n",
        "             'banana',\n",
        "             'The Eiffel Tower',\n",
        "             'The Mona Lisa',\n",
        "             'The Great Wall of China',\n",
        "             'alarm clock',\n",
        "             'ant',\n",
        "             'asparagus']"
      ],
      "execution_count": null,
      "outputs": []
    },
    {
      "cell_type": "markdown",
      "metadata": {
        "id": "VxuY8RYXD9S4"
      },
      "source": [
        "We can explore the data a bit by reshaping the vectors back to images and displaying them with their labels. <br>\n",
        "Turns out the data has 10 blocks of 10,000 images of each of the above labels, in order. <br>\n",
        "So the code below displays the first image of each class."
      ]
    },
    {
      "cell_type": "code",
      "metadata": {
        "id": "Owbm1EbxvA5A",
        "colab": {
          "base_uri": "https://localhost:8080/",
          "height": 289
        },
        "outputId": "a14435c7-73b7-4d86-a91a-4d689f3ae3fa"
      },
      "source": [
        "# these are your 10 unique images\n",
        "plt.figure(figsize=(10,5))\n",
        "start = 0\n",
        "\n",
        "for num, name in enumerate(class_names):\n",
        "    plt.subplot(2,5, num+1)\n",
        "    plt.xticks([])\n",
        "    plt.yticks([])\n",
        "    plt.grid(False)\n",
        "    plt.imshow(X[start].reshape(28,28),cmap=plt.cm.binary)\n",
        "    plt.xlabel(name)\n",
        "    start += 10000\n",
        "plt.show()"
      ],
      "execution_count": null,
      "outputs": [
        {
          "output_type": "display_data",
          "data": {
            "text/plain": [
              "<Figure size 720x360 with 10 Axes>"
            ],
            "image/png": "[encoded data removed]"
          },
          "metadata": {}
        }
      ]
    },
    {
      "cell_type": "markdown",
      "metadata": {
        "id": "Av6i6t5QLj1D"
      },
      "source": [
        "Say hello to the Quickdraw dataset!\n",
        "\n",
        "You'll be using this dataset a lot this week as an alternative to the MNIST digits data set, which we'll use in the guided projects. The nice thing about this dataset is that it's simple, which allows us to focus on our model, its various components, and gradually come to a better understanding of how to build neural networks without worrying about cleaning and prepping our image data much."
      ]
    },
    {
      "cell_type": "code",
      "metadata": {
        "id": "c97_M1WNvTNY"
      },
      "source": [
        "# always a good idea to shuffle your dataset!\n",
        "X, y = shuffle(X, y)"
      ],
      "execution_count": null,
      "outputs": []
    },
    {
      "cell_type": "markdown",
      "metadata": {
        "id": "jb70CbLVyK65"
      },
      "source": [
        "-----\n",
        "\n",
        "## Build Your Baseline Model\n",
        "\n",
        "Make sure that you\n",
        "\n",
        "- **Determine** the dimensionality of your input data by investigating **X**\n",
        "- **Normalize** your input data to values between 0 and 1 \n",
        "- **Determine** the number of neurons in your output layer by investigating **Y**\n",
        "- **Select** `sparse_categorical_crossentropy` as your loss function.\n",
        "- **Select** `sgd` as your optimizer.\n",
        "- **Add** 3 hidden layers to your model with the following number of nodes\n",
        "    - h1 has 500 nodes\n",
        "    - h2 has 250 nodes\n",
        "    - h3 has 100 nodes\n",
        "    \n",
        "- **Set** epochs to 20 \n",
        "- **Use** the `validation_split` keyword in `model.fit()` to automatically create a training / validation dataset from within the model. Specify a percentage, such as `validation_split = 0.2`\n",
        " \n",
        "Not sure what the various parameters are for or what values to assign to them?\n",
        "\n",
        "- Reference the guided project notebook for Sprint 2 Module 1\n",
        "- Reference the [**Keras documentation**](https://keras.io/api/)\n",
        "- Google other examples\n",
        "- Discuss your results with classmates "
      ]
    },
    {
      "cell_type": "code",
      "metadata": {
        "deletable": false,
        "nbgrader": {
          "cell_type": "code",
          "checksum": "ef20dd34df6998e0a50e394d59d58659",
          "grade": false,
          "grade_id": "cell-907b9348d7a2ebb3",
          "locked": false,
          "schema_version": 3,
          "solution": true,
          "task": false
        },
        "id": "f133nwpOLj1G"
      },
      "source": [
        "# get dim of image row vectors and save to input_dim\n",
        "input_dim = y.shape\n",
        "\n",
        "# get number of unique labels and save to n_output_labels\n",
        "y_df = pd.DataFrame(y)\n",
        "n_output_labels = y_df.nunique()\n",
        "# normalize image data to values between 0 and 1 (by dividing by max pixel value)\n",
        "max_value = 255\n",
        "X_scaled = X/max_value\n",
        "\n",
        "\n",
        "# YOUR CODE HERE\n",
        "#raise NotImplementedError()"
      ],
      "execution_count": null,
      "outputs": []
    },
    {
      "cell_type": "code",
      "metadata": {
        "id": "vOufsWS3Lj1G"
      },
      "source": [
        "# a check on your data prep \n",
        "assert  X_scaled.max(), \"Max pixel value should be 1.0, make sure you normalize your data\""
      ],
      "execution_count": null,
      "outputs": []
    },
    {
      "cell_type": "code",
      "metadata": {
        "deletable": false,
        "id": "zHWblzsMyNkU",
        "nbgrader": {
          "cell_type": "code",
          "checksum": "f0ba174cb72f491f73c3aa7df8ae7ac4",
          "grade": false,
          "grade_id": "cell-b7c96fc46d86725f",
          "locked": false,
          "schema_version": 3,
          "solution": true,
          "task": false
        }
      },
      "source": [
        "# instantiate a sequential object and call it model, then add the layers to your model\n",
        "model = Sequential()\n",
        "h1 = model.add(Dense(32, activation='relu', input_dim=784))\n",
        "h2 = model.add(Dense(32, activation='relu'))\n",
        "h3 = h2 = model.add(Dense(32, activation='relu'))\n",
        "model.add(Dense(10, activation='softmax'))\n",
        "# add a compile layer but don't fit your model yet \n",
        "model.compile(optimizer='adam', loss='sparse_categorical_crossentropy', metrics=['accuracy'])\n",
        "# YOUR CODE HERE\n",
        "#raise NotImplementedError()"
      ],
      "execution_count": null,
      "outputs": []
    },
    {
      "cell_type": "code",
      "metadata": {
        "id": "ojLnGDklLj1H"
      },
      "source": [
        "# a check on your model architecture \n",
        "n_layers = len(model.get_config()[\"layers\"])\n",
        "assert n_layers == 5, \"You should have 5 layers: input, h1, h2, h3, and output\""
      ],
      "execution_count": null,
      "outputs": []
    },
    {
      "cell_type": "code",
      "metadata": {
        "id": "wMK2_DtJLj1I",
        "outputId": "763d87fb-c6d7-4a1f-ca73-78c5d08949fc",
        "colab": {
          "base_uri": "https://localhost:8080/"
        }
      },
      "source": [
        "# check out your model summary \n",
        "model.summary()"
      ],
      "execution_count": null,
      "outputs": [
        {
          "output_type": "stream",
          "name": "stdout",
          "text": [
            "Model: \"sequential_2\"\n",
            "_________________________________________________________________\n",
            " Layer (type)                Output Shape              Param #   \n",
            "=================================================================\n",
            " dense_6 (Dense)             (None, 32)                25120     \n",
            "                                                                 \n",
            " dense_7 (Dense)             (None, 32)                1056      \n",
            "                                                                 \n",
            " dense_8 (Dense)             (None, 32)                1056      \n",
            "                                                                 \n",
            " dense_9 (Dense)             (None, 10)                330       \n",
            "                                                                 \n",
            "=================================================================\n",
            "Total params: 27,562\n",
            "Trainable params: 27,562\n",
            "Non-trainable params: 0\n",
            "_________________________________________________________________\n"
          ]
        }
      ]
    },
    {
      "cell_type": "code",
      "metadata": {
        "id": "DXTSbEiyLj1I",
        "outputId": "61d8ef48-8cc4-42a4-8463-0e51ef10b711",
        "colab": {
          "base_uri": "https://localhost:8080/"
        }
      },
      "source": [
        "# fit your model and save training results to history \n",
        "epochs = 20\n",
        "history = model.fit(X_scaled, y, epochs=epochs, \n",
        "                    # a held-out validation set will be generated within the model\n",
        "                    validation_split=0.2)"
      ],
      "execution_count": null,
      "outputs": [
        {
          "output_type": "stream",
          "name": "stdout",
          "text": [
            "Epoch 1/20\n",
            "2500/2500 [==============================] - 9s 3ms/step - loss: 0.4875 - accuracy: 0.8504 - val_loss: 0.5668 - val_accuracy: 0.8295\n",
            "Epoch 2/20\n",
            "2500/2500 [==============================] - 6s 3ms/step - loss: 0.4855 - accuracy: 0.8511 - val_loss: 0.5732 - val_accuracy: 0.8282\n",
            "Epoch 3/20\n",
            "2500/2500 [==============================] - 7s 3ms/step - loss: 0.4835 - accuracy: 0.8525 - val_loss: 0.5613 - val_accuracy: 0.8328\n",
            "Epoch 4/20\n",
            "2500/2500 [==============================] - 7s 3ms/step - loss: 0.4809 - accuracy: 0.8529 - val_loss: 0.5634 - val_accuracy: 0.8306\n",
            "Epoch 5/20\n",
            "2500/2500 [==============================] - 7s 3ms/step - loss: 0.4781 - accuracy: 0.8535 - val_loss: 0.5614 - val_accuracy: 0.8318\n",
            "Epoch 6/20\n",
            "2500/2500 [==============================] - 7s 3ms/step - loss: 0.4775 - accuracy: 0.8532 - val_loss: 0.5666 - val_accuracy: 0.8306\n",
            "Epoch 7/20\n",
            "2500/2500 [==============================] - 8s 3ms/step - loss: 0.4744 - accuracy: 0.8548 - val_loss: 0.5659 - val_accuracy: 0.8320\n",
            "Epoch 8/20\n",
            "2500/2500 [==============================] - 7s 3ms/step - loss: 0.4732 - accuracy: 0.8553 - val_loss: 0.5570 - val_accuracy: 0.8322\n",
            "Epoch 9/20\n",
            "2500/2500 [==============================] - 7s 3ms/step - loss: 0.4709 - accuracy: 0.8557 - val_loss: 0.5609 - val_accuracy: 0.8314\n",
            "Epoch 10/20\n",
            "2500/2500 [==============================] - 7s 3ms/step - loss: 0.4691 - accuracy: 0.8572 - val_loss: 0.5610 - val_accuracy: 0.8322\n",
            "Epoch 11/20\n",
            "2500/2500 [==============================] - 7s 3ms/step - loss: 0.4668 - accuracy: 0.8566 - val_loss: 0.5601 - val_accuracy: 0.8340\n",
            "Epoch 12/20\n",
            "2500/2500 [==============================] - 7s 3ms/step - loss: 0.4660 - accuracy: 0.8572 - val_loss: 0.5574 - val_accuracy: 0.8338\n",
            "Epoch 13/20\n",
            "2500/2500 [==============================] - 6s 3ms/step - loss: 0.4632 - accuracy: 0.8579 - val_loss: 0.5526 - val_accuracy: 0.8333\n",
            "Epoch 14/20\n",
            "2500/2500 [==============================] - 7s 3ms/step - loss: 0.4619 - accuracy: 0.8588 - val_loss: 0.5530 - val_accuracy: 0.8347\n",
            "Epoch 15/20\n",
            "2500/2500 [==============================] - 7s 3ms/step - loss: 0.4598 - accuracy: 0.8583 - val_loss: 0.5626 - val_accuracy: 0.8307\n",
            "Epoch 16/20\n",
            "2500/2500 [==============================] - 6s 3ms/step - loss: 0.4589 - accuracy: 0.8583 - val_loss: 0.5493 - val_accuracy: 0.8343\n",
            "Epoch 17/20\n",
            "2500/2500 [==============================] - 7s 3ms/step - loss: 0.4575 - accuracy: 0.8588 - val_loss: 0.5511 - val_accuracy: 0.8360\n",
            "Epoch 18/20\n",
            "2500/2500 [==============================] - 6s 3ms/step - loss: 0.4548 - accuracy: 0.8600 - val_loss: 0.5603 - val_accuracy: 0.8335\n",
            "Epoch 19/20\n",
            "2500/2500 [==============================] - 7s 3ms/step - loss: 0.4541 - accuracy: 0.8601 - val_loss: 0.5634 - val_accuracy: 0.8317\n",
            "Epoch 20/20\n",
            "2500/2500 [==============================] - 6s 3ms/step - loss: 0.4530 - accuracy: 0.8608 - val_loss: 0.5466 - val_accuracy: 0.8375\n"
          ]
        }
      ]
    },
    {
      "cell_type": "markdown",
      "metadata": {
        "id": "b0QJURWh-9uv"
      },
      "source": [
        "----\n",
        "### Visualize the Results\n",
        "\n",
        "- Move results in `history` to a dataframe. \n",
        "- Use [**Seaborn**](https://seaborn.pydata.org/generated/seaborn.lineplot.html) to create line plots for both loss and accuracy by epoch. \n",
        "- Analyze the results and write a couple of observations. \n",
        "\n",
        "At what point should we have stopped training the model and why? "
      ]
    },
    {
      "cell_type": "code",
      "metadata": {
        "deletable": false,
        "id": "ijAlzfYKAFaY",
        "nbgrader": {
          "cell_type": "code",
          "checksum": "6ef8cde40701c2ef57cf853b19455125",
          "grade": false,
          "grade_id": "cell-16e647cfc3291a01",
          "locked": false,
          "schema_version": 3,
          "solution": true,
          "task": false
        },
        "outputId": "2fbdb175-8313-4b57-d1e7-d544bb516057",
        "colab": {
          "base_uri": "https://localhost:8080/",
          "height": 980
        }
      },
      "source": [
        "# YOUR CODE HERE\n",
        "ep = np.arange(20)\n",
        "type(history)\n",
        "history.history\n",
        "df = pd.DataFrame(history.history)\n",
        "sns.lineplot(ep, df.accuracy)\n",
        "df\n",
        "#raise NotImplementedError()"
      ],
      "execution_count": null,
      "outputs": [
        {
          "output_type": "stream",
          "name": "stderr",
          "text": [
            "/usr/local/lib/python3.8/dist-packages/seaborn/_decorators.py:36: FutureWarning: Pass the following variables as keyword args: x, y. From version 0.12, the only valid positional argument will be `data`, and passing other arguments without an explicit keyword will result in an error or misinterpretation.\n",
            "  warnings.warn(\n"
          ]
        },
        {
          "output_type": "execute_result",
          "data": {
            "text/plain": [
              "        loss  accuracy  val_loss  val_accuracy\n",
              "0   0.487526  0.850400  0.566775       0.82945\n",
              "1   0.485500  0.851075  0.573152       0.82825\n",
              "2   0.483453  0.852525  0.561346       0.83275\n",
              "3   0.480892  0.852888  0.563376       0.83055\n",
              "4   0.478078  0.853475  0.561439       0.83185\n",
              "5   0.477495  0.853188  0.566553       0.83055\n",
              "6   0.474396  0.854800  0.565876       0.83200\n",
              "7   0.473161  0.855275  0.557019       0.83225\n",
              "8   0.470879  0.855663  0.560938       0.83140\n",
              "9   0.469120  0.857200  0.560996       0.83225\n",
              "10  0.466841  0.856625  0.560101       0.83405\n",
              "11  0.465982  0.857212  0.557366       0.83375\n",
              "12  0.463204  0.857862  0.552577       0.83330\n",
              "13  0.461860  0.858813  0.552956       0.83475\n",
              "14  0.459844  0.858275  0.562611       0.83070\n",
              "15  0.458899  0.858325  0.549257       0.83430\n",
              "16  0.457534  0.858800  0.551103       0.83600\n",
              "17  0.454751  0.860012  0.560324       0.83355\n",
              "18  0.454127  0.860150  0.563416       0.83170\n",
              "19  0.452988  0.860825  0.546635       0.83755"
            ],
            "text/html": [
              "\n",
              "  <div id=\"df-c73d07e9-0891-4ad2-bd41-e7824f6baa2e\">\n",
              "    <div class=\"colab-df-container\">\n",
              "      <div>\n",
              "<style scoped>\n",
              "    .dataframe tbody tr th:only-of-type {\n",
              "        vertical-align: middle;\n",
              "    }\n",
              "\n",
              "    .dataframe tbody tr th {\n",
              "        vertical-align: top;\n",
              "    }\n",
              "\n",
              "    .dataframe thead th {\n",
              "        text-align: right;\n",
              "    }\n",
              "</style>\n",
              "<table border=\"1\" class=\"dataframe\">\n",
              "  <thead>\n",
              "    <tr style=\"text-align: right;\">\n",
              "      <th></th>\n",
              "      <th>loss</th>\n",
              "      <th>accuracy</th>\n",
              "      <th>val_loss</th>\n",
              "      <th>val_accuracy</th>\n",
              "    </tr>\n",
              "  </thead>\n",
              "  <tbody>\n",
              "    <tr>\n",
              "      <th>0</th>\n",
              "      <td>0.487526</td>\n",
              "      <td>0.850400</td>\n",
              "      <td>0.566775</td>\n",
              "      <td>0.82945</td>\n",
              "    </tr>\n",
              "    <tr>\n",
              "      <th>1</th>\n",
              "      <td>0.485500</td>\n",
              "      <td>0.851075</td>\n",
              "      <td>0.573152</td>\n",
              "      <td>0.82825</td>\n",
              "    </tr>\n",
              "    <tr>\n",
              "      <th>2</th>\n",
              "      <td>0.483453</td>\n",
              "      <td>0.852525</td>\n",
              "      <td>0.561346</td>\n",
              "      <td>0.83275</td>\n",
              "    </tr>\n",
              "    <tr>\n",
              "      <th>3</th>\n",
              "      <td>0.480892</td>\n",
              "      <td>0.852888</td>\n",
              "      <td>0.563376</td>\n",
              "      <td>0.83055</td>\n",
              "    </tr>\n",
              "    <tr>\n",
              "      <th>4</th>\n",
              "      <td>0.478078</td>\n",
              "      <td>0.853475</td>\n",
              "      <td>0.561439</td>\n",
              "      <td>0.83185</td>\n",
              "    </tr>\n",
              "    <tr>\n",
              "      <th>5</th>\n",
              "      <td>0.477495</td>\n",
              "      <td>0.853188</td>\n",
              "      <td>0.566553</td>\n",
              "      <td>0.83055</td>\n",
              "    </tr>\n",
              "    <tr>\n",
              "      <th>6</th>\n",
              "      <td>0.474396</td>\n",
              "      <td>0.854800</td>\n",
              "      <td>0.565876</td>\n",
              "      <td>0.83200</td>\n",
              "    </tr>\n",
              "    <tr>\n",
              "      <th>7</th>\n",
              "      <td>0.473161</td>\n",
              "      <td>0.855275</td>\n",
              "      <td>0.557019</td>\n",
              "      <td>0.83225</td>\n",
              "    </tr>\n",
              "    <tr>\n",
              "      <th>8</th>\n",
              "      <td>0.470879</td>\n",
              "      <td>0.855663</td>\n",
              "      <td>0.560938</td>\n",
              "      <td>0.83140</td>\n",
              "    </tr>\n",
              "    <tr>\n",
              "      <th>9</th>\n",
              "      <td>0.469120</td>\n",
              "      <td>0.857200</td>\n",
              "      <td>0.560996</td>\n",
              "      <td>0.83225</td>\n",
              "    </tr>\n",
              "    <tr>\n",
              "      <th>10</th>\n",
              "      <td>0.466841</td>\n",
              "      <td>0.856625</td>\n",
              "      <td>0.560101</td>\n",
              "      <td>0.83405</td>\n",
              "    </tr>\n",
              "    <tr>\n",
              "      <th>11</th>\n",
              "      <td>0.465982</td>\n",
              "      <td>0.857212</td>\n",
              "      <td>0.557366</td>\n",
              "      <td>0.83375</td>\n",
              "    </tr>\n",
              "    <tr>\n",
              "      <th>12</th>\n",
              "      <td>0.463204</td>\n",
              "      <td>0.857862</td>\n",
              "      <td>0.552577</td>\n",
              "      <td>0.83330</td>\n",
              "    </tr>\n",
              "    <tr>\n",
              "      <th>13</th>\n",
              "      <td>0.461860</td>\n",
              "      <td>0.858813</td>\n",
              "      <td>0.552956</td>\n",
              "      <td>0.83475</td>\n",
              "    </tr>\n",
              "    <tr>\n",
              "      <th>14</th>\n",
              "      <td>0.459844</td>\n",
              "      <td>0.858275</td>\n",
              "      <td>0.562611</td>\n",
              "      <td>0.83070</td>\n",
              "    </tr>\n",
              "    <tr>\n",
              "      <th>15</th>\n",
              "      <td>0.458899</td>\n",
              "      <td>0.858325</td>\n",
              "      <td>0.549257</td>\n",
              "      <td>0.83430</td>\n",
              "    </tr>\n",
              "    <tr>\n",
              "      <th>16</th>\n",
              "      <td>0.457534</td>\n",
              "      <td>0.858800</td>\n",
              "      <td>0.551103</td>\n",
              "      <td>0.83600</td>\n",
              "    </tr>\n",
              "    <tr>\n",
              "      <th>17</th>\n",
              "      <td>0.454751</td>\n",
              "      <td>0.860012</td>\n",
              "      <td>0.560324</td>\n",
              "      <td>0.83355</td>\n",
              "    </tr>\n",
              "    <tr>\n",
              "      <th>18</th>\n",
              "      <td>0.454127</td>\n",
              "      <td>0.860150</td>\n",
              "      <td>0.563416</td>\n",
              "      <td>0.83170</td>\n",
              "    </tr>\n",
              "    <tr>\n",
              "      <th>19</th>\n",
              "      <td>0.452988</td>\n",
              "      <td>0.860825</td>\n",
              "      <td>0.546635</td>\n",
              "      <td>0.83755</td>\n",
              "    </tr>\n",
              "  </tbody>\n",
              "</table>\n",
              "</div>\n",
              "      <button class=\"colab-df-convert\" onclick=\"convertToInteractive('df-c73d07e9-0891-4ad2-bd41-e7824f6baa2e')\"\n",
              "              title=\"Convert this dataframe to an interactive table.\"\n",
              "              style=\"display:none;\">\n",
              "        \n",
              "  <svg xmlns=\"http://www.w3.org/2000/svg\" height=\"24px\"viewBox=\"0 0 24 24\"\n",
              "       width=\"24px\">\n",
              "    <path d=\"M0 0h24v24H0V0z\" fill=\"none\"/>\n",
              "    <path d=\"M18.56 5.44l.94 2.06.94-2.06 2.06-.94-2.06-.94-.94-2.06-.94 2.06-2.06.94zm-11 1L8.5 8.5l.94-2.06 2.06-.94-2.06-.94L8.5 2.5l-.94 2.06-2.06.94zm10 10l.94 2.06.94-2.06 2.06-.94-2.06-.94-.94-2.06-.94 2.06-2.06.94z\"/><path d=\"M17.41 7.96l-1.37-1.37c-.4-.4-.92-.59-1.43-.59-.52 0-1.04.2-1.43.59L10.3 9.45l-7.72 7.72c-.78.78-.78 2.05 0 2.83L4 21.41c.39.39.9.59 1.41.59.51 0 1.02-.2 1.41-.59l7.78-7.78 2.81-2.81c.8-.78.8-2.07 0-2.86zM5.41 20L4 18.59l7.72-7.72 1.47 1.35L5.41 20z\"/>\n",
              "  </svg>\n",
              "      </button>\n",
              "      \n",
              "  <style>\n",
              "    .colab-df-container {\n",
              "      display:flex;\n",
              "      flex-wrap:wrap;\n",
              "      gap: 12px;\n",
              "    }\n",
              "\n",
              "    .colab-df-convert {\n",
              "      background-color: #E8F0FE;\n",
              "      border: none;\n",
              "      border-radius: 50%;\n",
              "      cursor: pointer;\n",
              "      display: none;\n",
              "      fill: #1967D2;\n",
              "      height: 32px;\n",
              "      padding: 0 0 0 0;\n",
              "      width: 32px;\n",
              "    }\n",
              "\n",
              "    .colab-df-convert:hover {\n",
              "      background-color: #E2EBFA;\n",
              "      box-shadow: 0px 1px 2px rgba(60, 64, 67, 0.3), 0px 1px 3px 1px rgba(60, 64, 67, 0.15);\n",
              "      fill: #174EA6;\n",
              "    }\n",
              "\n",
              "    [theme=dark] .colab-df-convert {\n",
              "      background-color: #3B4455;\n",
              "      fill: #D2E3FC;\n",
              "    }\n",
              "\n",
              "    [theme=dark] .colab-df-convert:hover {\n",
              "      background-color: #434B5C;\n",
              "      box-shadow: 0px 1px 3px 1px rgba(0, 0, 0, 0.15);\n",
              "      filter: drop-shadow(0px 1px 2px rgba(0, 0, 0, 0.3));\n",
              "      fill: #FFFFFF;\n",
              "    }\n",
              "  </style>\n",
              "\n",
              "      <script>\n",
              "        const buttonEl =\n",
              "          document.querySelector('#df-c73d07e9-0891-4ad2-bd41-e7824f6baa2e button.colab-df-convert');\n",
              "        buttonEl.style.display =\n",
              "          google.colab.kernel.accessAllowed ? 'block' : 'none';\n",
              "\n",
              "        async function convertToInteractive(key) {\n",
              "          const element = document.querySelector('#df-c73d07e9-0891-4ad2-bd41-e7824f6baa2e');\n",
              "          const dataTable =\n",
              "            await google.colab.kernel.invokeFunction('convertToInteractive',\n",
              "                                                     [key], {});\n",
              "          if (!dataTable) return;\n",
              "\n",
              "          const docLinkHtml = 'Like what you see? Visit the ' +\n",
              "            '<a target=\"_blank\" href=https://colab.research.google.com/notebooks/data_table.ipynb>data table notebook</a>'\n",
              "            + ' to learn more about interactive tables.';\n",
              "          element.innerHTML = '';\n",
              "          dataTable['output_type'] = 'display_data';\n",
              "          await google.colab.output.renderOutput(dataTable, element);\n",
              "          const docLink = document.createElement('div');\n",
              "          docLink.innerHTML = docLinkHtml;\n",
              "          element.appendChild(docLink);\n",
              "        }\n",
              "      </script>\n",
              "    </div>\n",
              "  </div>\n",
              "  "
            ]
          },
          "metadata": {},
          "execution_count": 46
        },
        {
          "output_type": "display_data",
          "data": {
            "text/plain": [
              "<Figure size 432x288 with 1 Axes>"
            ],
            "image/png": "[encoded data removed]"
          },
          "metadata": {
            "needs_background": "light"
          }
        }
      ]
    },
    {
      "cell_type": "code",
      "metadata": {
        "id": "jFTzaMcALj1J"
      },
      "source": [
        "# a check on our model training\n",
        "assert df.shape[0] == 20, \"df should have the training results from 20 epochs\""
      ],
      "execution_count": null,
      "outputs": []
    },
    {
      "cell_type": "code",
      "metadata": {
        "deletable": false,
        "nbgrader": {
          "cell_type": "code",
          "checksum": "424d241660318a72ecda935be10485d7",
          "grade": false,
          "grade_id": "cell-96dba18873c4cffc",
          "locked": false,
          "schema_version": 3,
          "solution": true,
          "task": false
        },
        "id": "i6NnocuJLj1J",
        "outputId": "6a6c157c-c6b6-43bb-dd8f-17347c7edddc",
        "colab": {
          "base_uri": "https://localhost:8080/",
          "height": 283
        }
      },
      "source": [
        "# use seaborn to plot loss and accuracy metrics\n",
        "sns.lineplot (data = df)\n",
        "\n",
        "# YOUR CODE HERE\n",
        "#raise NotImplementedError()"
      ],
      "execution_count": null,
      "outputs": [
        {
          "output_type": "execute_result",
          "data": {
            "text/plain": [
              "<matplotlib.axes._subplots.AxesSubplot at 0x7fd346ea4e80>"
            ]
          },
          "metadata": {},
          "execution_count": 57
        },
        {
          "output_type": "display_data",
          "data": {
            "text/plain": [
              "<Figure size 432x288 with 1 Axes>"
            ],
            "image/png": "[encoded data removed]"
          },
          "metadata": {
            "needs_background": "light"
          }
        }
      ]
    },
    {
      "cell_type": "markdown",
      "metadata": {
        "id": "GmjyuTlrLj1K"
      },
      "source": [
        "### Observations \n",
        "\n",
        "Based on the plot of the training and validation loss, answer the following questions. "
      ]
    },
    {
      "cell_type": "markdown",
      "metadata": {
        "id": "NF_mrNmPLj1K"
      },
      "source": [
        "**Was our model able to learn throughout the 20 epochs? Why or why not?**"
      ]
    },
    {
      "cell_type": "markdown",
      "metadata": {
        "deletable": false,
        "nbgrader": {
          "cell_type": "markdown",
          "checksum": "b7713eb32ad3a910a58dfdb9494a9db3",
          "grade": true,
          "grade_id": "cell-820990a8232a858a",
          "locked": false,
          "points": 0,
          "schema_version": 3,
          "solution": true,
          "task": false
        },
        "id": "yL42yLWELj1K"
      },
      "source": [
        "yes but the accuracy score needs improvement"
      ]
    },
    {
      "cell_type": "markdown",
      "metadata": {
        "id": "_xKObFanLj1K"
      },
      "source": [
        "**Is our model overfitting? Why or why not?**"
      ]
    },
    {
      "cell_type": "markdown",
      "metadata": {
        "deletable": false,
        "nbgrader": {
          "cell_type": "markdown",
          "checksum": "1d30c64465cd35081d70578c20ecf96d",
          "grade": true,
          "grade_id": "cell-33868e7ef6e401b5",
          "locked": false,
          "points": 0,
          "schema_version": 3,
          "solution": true,
          "task": false
        },
        "id": "rx7xa4Z1Lj1L"
      },
      "source": [
        "it was not overfitting because the accuracy for training and validation sets is almost equal."
      ]
    },
    {
      "cell_type": "markdown",
      "metadata": {
        "id": "FIvb1mftLj1L"
      },
      "source": [
        "**Could the model score benefit from additional epochs? Why or why not?**"
      ]
    },
    {
      "cell_type": "markdown",
      "metadata": {
        "deletable": false,
        "nbgrader": {
          "cell_type": "markdown",
          "checksum": "0fc2208e2c78461578fc7a05224066b8",
          "grade": true,
          "grade_id": "cell-5c883f0a3161e469",
          "locked": false,
          "points": 0,
          "schema_version": 3,
          "solution": true,
          "task": false
        },
        "id": "Ww1hBmfMLj1L"
      },
      "source": [
        "yes the model score is kind of low. "
      ]
    },
    {
      "cell_type": "markdown",
      "metadata": {
        "id": "MAhBrcE4yOZe"
      },
      "source": [
        "-----\n",
        "## Change Optimizers\n",
        "\n",
        "Let's compare model performance between different optimizers. \n",
        "- Build a new model, identical to the last one but using `adam` for the optimizer. \n",
        "- Train (fit) the model\n",
        "- Save the modeling results to adam_history, so we don't erase the results from the previous model run\n",
        "- Visualize the training results just as we did for the last model. \n"
      ]
    },
    {
      "cell_type": "code",
      "metadata": {
        "deletable": false,
        "id": "jIW_spOZ0cxy",
        "nbgrader": {
          "cell_type": "code",
          "checksum": "6d30d8c6f4521861a77c9ef04dbde904",
          "grade": false,
          "grade_id": "cell-56663c8a5e75b71f",
          "locked": false,
          "schema_version": 3,
          "solution": true,
          "task": false
        },
        "outputId": "c03861cc-8c86-4a30-b201-1f3f17a770bb",
        "colab": {
          "base_uri": "https://localhost:8080/"
        }
      },
      "source": [
        "# train the same model as above but use the sgd optimizer if you used adam previously (or use adam if you used sgd previously)\n",
        "model.compile(optimizer='sgd', loss='sparse_categorical_crossentropy', metrics=['accuracy'])\n",
        "adam_history = model.fit(X_scaled, y, epochs=10, validation_split=0.2)\n",
        "# YOUR CODE HERE\n",
        "#raise NotImplementedError()"
      ],
      "execution_count": null,
      "outputs": [
        {
          "output_type": "stream",
          "name": "stdout",
          "text": [
            "Epoch 1/10\n",
            "2500/2500 [==============================] - 9s 3ms/step - loss: 0.5539 - accuracy: 0.8263 - val_loss: 0.6095 - val_accuracy: 0.8177\n",
            "Epoch 2/10\n",
            "2500/2500 [==============================] - 6s 2ms/step - loss: 0.5440 - accuracy: 0.8293 - val_loss: 0.5860 - val_accuracy: 0.8212\n",
            "Epoch 3/10\n",
            "2500/2500 [==============================] - 9s 3ms/step - loss: 0.5459 - accuracy: 0.8282 - val_loss: 0.5913 - val_accuracy: 0.8185\n",
            "Epoch 4/10\n",
            "2500/2500 [==============================] - 6s 3ms/step - loss: 0.5414 - accuracy: 0.8294 - val_loss: 0.6331 - val_accuracy: 0.8080\n",
            "Epoch 5/10\n",
            "2500/2500 [==============================] - 8s 3ms/step - loss: 0.5421 - accuracy: 0.8306 - val_loss: 0.5815 - val_accuracy: 0.8237\n",
            "Epoch 6/10\n",
            "2500/2500 [==============================] - 6s 3ms/step - loss: 0.5428 - accuracy: 0.8289 - val_loss: 0.6086 - val_accuracy: 0.8146\n",
            "Epoch 7/10\n",
            "2500/2500 [==============================] - 6s 2ms/step - loss: 0.5386 - accuracy: 0.8299 - val_loss: 0.6953 - val_accuracy: 0.7774\n",
            "Epoch 8/10\n",
            "2500/2500 [==============================] - 7s 3ms/step - loss: 0.5371 - accuracy: 0.8321 - val_loss: 0.6131 - val_accuracy: 0.8151\n",
            "Epoch 9/10\n",
            "2500/2500 [==============================] - 7s 3ms/step - loss: 0.5356 - accuracy: 0.8311 - val_loss: 0.6007 - val_accuracy: 0.8159\n",
            "Epoch 10/10\n",
            "2500/2500 [==============================] - 7s 3ms/step - loss: 0.5327 - accuracy: 0.8335 - val_loss: 0.5736 - val_accuracy: 0.8252\n"
          ]
        }
      ]
    },
    {
      "cell_type": "code",
      "metadata": {
        "id": "u9DQypQOLj1L"
      },
      "source": [
        "# a check that we're using the correct optimizer in this model\n",
        "opt_name = model.optimizer.get_config()[\"name\"]\n",
        "assert opt_name != \"adam\", \"you need to use adam for the optimizer in this model.\""
      ],
      "execution_count": null,
      "outputs": []
    },
    {
      "cell_type": "code",
      "metadata": {
        "deletable": false,
        "nbgrader": {
          "cell_type": "code",
          "checksum": "1a4c01aa7dbcc832d75b05bffaeaacc8",
          "grade": false,
          "grade_id": "cell-20118d1646215346",
          "locked": false,
          "schema_version": 3,
          "solution": true,
          "task": false
        },
        "id": "wBVj55zVLj1L",
        "outputId": "f367a888-678b-48ac-a0eb-eb7b444ab4c2",
        "colab": {
          "base_uri": "https://localhost:8080/",
          "height": 283
        }
      },
      "source": [
        "# YOUR CODE HERE\n",
        "df_sgd = pd.DataFrame(history.history)\n",
        "sns.lineplot(data=df_sgd)\n",
        "#raise NotImplementedError()"
      ],
      "execution_count": null,
      "outputs": [
        {
          "output_type": "execute_result",
          "data": {
            "text/plain": [
              "<matplotlib.axes._subplots.AxesSubplot at 0x7fd346bcdb50>"
            ]
          },
          "metadata": {},
          "execution_count": 66
        },
        {
          "output_type": "display_data",
          "data": {
            "text/plain": [
              "<Figure size 432x288 with 1 Axes>"
            ],
            "image/png": "[encoded data removed]"
          },
          "metadata": {
            "needs_background": "light"
          }
        }
      ]
    },
    {
      "cell_type": "markdown",
      "metadata": {
        "id": "XECc5OtzLj1M"
      },
      "source": [
        "### Observations \n",
        "\n",
        "This plot should look very different from the previous plot. Based on the plot of the training and validation loss, answer the following questions. "
      ]
    },
    {
      "cell_type": "markdown",
      "metadata": {
        "id": "tK8B5CszLj1M"
      },
      "source": [
        "**Is our model overfitting? Why or why not?**"
      ]
    },
    {
      "cell_type": "markdown",
      "metadata": {
        "deletable": false,
        "nbgrader": {
          "cell_type": "markdown",
          "checksum": "fa4141497af675d227aa510feb8db732",
          "grade": true,
          "grade_id": "cell-7e524ccac970c33e",
          "locked": false,
          "points": 0,
          "schema_version": 3,
          "solution": true,
          "task": false
        },
        "id": "Fn6C8NWTLj1M"
      },
      "source": [
        "No it is not"
      ]
    },
    {
      "cell_type": "markdown",
      "metadata": {
        "id": "ygXQYH8ILj1M"
      },
      "source": [
        "**Could our model's performance improve by training on more than 20 epochs? Why or why not?**"
      ]
    },
    {
      "cell_type": "markdown",
      "metadata": {
        "deletable": false,
        "nbgrader": {
          "cell_type": "markdown",
          "checksum": "ae03b8b897eb5d052590574ab3bba839",
          "grade": true,
          "grade_id": "cell-456c40e885652955",
          "locked": false,
          "points": 0,
          "schema_version": 3,
          "solution": true,
          "task": false
        },
        "id": "Sa5SRkB1Lj1M"
      },
      "source": [
        "yes because the model accuracy is increasing with each epoch"
      ]
    },
    {
      "cell_type": "markdown",
      "metadata": {
        "id": "bNxtLggeLj1M"
      },
      "source": [
        "**Assuming that you want to stick to this model architecture, what can you do to avoid overfitting?**"
      ]
    },
    {
      "cell_type": "markdown",
      "metadata": {
        "deletable": false,
        "nbgrader": {
          "cell_type": "markdown",
          "checksum": "9f5a9393314231d3ce253363c1df1223",
          "grade": true,
          "grade_id": "cell-74d7def19c66702b",
          "locked": false,
          "points": 0,
          "schema_version": 3,
          "solution": true,
          "task": false
        },
        "id": "tfztMm3rLj1M"
      },
      "source": [
        "decrease the number of neurons"
      ]
    },
    {
      "cell_type": "markdown",
      "metadata": {
        "id": "ViaTP68cLj1M"
      },
      "source": [
        "------\n",
        "# Conclusion \n",
        "\n",
        "You have observed by comparing the two models that are identical except for the optimizer, that the choice of the optimizer can considerably influence the performance of a neural network. \n",
        "\n",
        "You might not know \n",
        "\n",
        "- why changing the optimizer from Stochastic Gradient Descent over to Adam made a difference.\n",
        "- how Gradient Descent works \n",
        "- or that Adam is known as Adaptive Gradient Descent (i.e., is it a different version of ordinary Gradient Descent). \n",
        "\n",
        "But that's ok - tomorrow's lesson will be a deep dive into Gradient Descent. You'll learn the theory of Gradient Descent, we'll code up Gradient Descent from scratch, and we'll talk about how Adam is different from ordinary Gradient Descent. "
      ]
    },
    {
      "cell_type": "markdown",
      "metadata": {
        "id": "8v_TuVH5Lj1N"
      },
      "source": [
        "-----\n",
        "# Preparation for Tomorrow \n",
        "\n",
        "In preparation for tomorrow, you might need to watch a few videos. I say it might because you may or may not already be comfortable with multi-variate calculus. \n",
        "\n",
        "### Theory of Calculus \n",
        "The theory of Gradient Descent rests on [**the derivative from Calculus**](https://www.youtube.com/watch?v=WUvTyaaNkzM). If you've never taken a Calculus course before, or are a bit rusty, definitely watch this video in preparation for tomorrow's lesson. The takeaway here is to understand the derivative conceptually; you won't be asked to calculate any derivatives by hand. \n",
        "\n",
        "### The Gradient - a Multi-Dimensional Derivative\n",
        "Once you've watched the previous video, you will be ready to understand how to conceptualize a derivative in an N-dimensional space (where N is any number ranging from 2, 3, 4, ..., all the way to a very large number of dimensions N ). [**This video visually explains the multi-dimensional derivative called the Gradient visually**](https://www.youtube.com/watch?v=GkB4vW16QHI) - and that's the takeaway. The point of this video is to help you understand the Gradient visually using 3D surfaces. You should also know that the Gradient is made up of partial derivatives, more on this tomorrow. \n",
        "\n",
        "### Contour Maps \n",
        "It is very common to visual 3D surfaces as 2D contour maps - and we'll be making a lot of use of contour maps to understand Gradient Descent. Watch this video to [**understand the relationship between 3D surfaces and 2D contour maps.**](https://www.youtube.com/watch?v=acdX4YamDtU)\n",
        "\n",
        "### The Calculus of Backpropagation \n",
        "\n",
        "Unlike standard Sklearn ML models, neural networks use Gradient Descent and something called Backpropagatin to learn from the data. [**In order to understand how backpropagation works, you need to understand the Chain Rule in Calculus**](https://www.youtube.com/watch?v=acdX4YamDtU). The takeaway here is to understand how a partial derivative can be decomposed into a product of multiple derivatives. "
      ]
    },
    {
      "cell_type": "markdown",
      "metadata": {
        "id": "XCjBp0vTLj1N"
      },
      "source": [
        "------\n",
        "# Stretch Goals\n",
        "\n",
        "### This Section is Optional!\n",
        "\n",
        "Only after you've completed the above work and watched the recommended videos are you then encouraged to experiment with building a few more models and analyze their results. \n",
        "\n",
        "Here are some suggestions to help you get started. \n",
        "\n",
        "- Train the same model using the Sigmoid and Relu activation functions and note the difference in their learning outcomes. [**Keras docs on activation functions**](https://keras.io/api/layers/activations/). We'll cover the Relu activation function in Sprint 2 Module 3.\n",
        "- Train the same model using normalized and non-normalized data and note the difference in their learning outcomes. \n",
        "\n",
        "\n",
        "The objective here is to get more practice with the Keras API (i.e., building models) and run a couple of experiments to help set you up for future lessons. In order words, we'll be discussing different activation functions and the effect of normalized data on model training."
      ]
    },
    {
      "cell_type": "code",
      "metadata": {
        "id": "5F1VQLmALj1N"
      },
      "source": [],
      "execution_count": null,
      "outputs": []
    }
  ]
}